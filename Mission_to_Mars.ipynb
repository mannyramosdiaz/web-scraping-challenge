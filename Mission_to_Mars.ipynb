{
 "cells": [
  {
   "cell_type": "code",
   "execution_count": 1,
   "metadata": {},
   "outputs": [],
   "source": [
    "#Nasa Mars News\n",
    "from splinter import Browser\n",
    "import pandas as pd\n",
    "import pymongo\n",
    "from flask import Flask\n",
    "from bs4 import BeautifulSoup\n",
    "import requests"
   ]
  },
  {
   "cell_type": "code",
   "execution_count": 2,
   "metadata": {},
   "outputs": [
    {
     "name": "stdout",
     "output_type": "stream",
     "text": [
      "/c/Users/manny/anaconda3/envs/PythonData/bin/chromedriver\n"
     ]
    }
   ],
   "source": [
    "#https://splinter.readthedocs.io/en/latest/driver/chrome.html\n",
    "!which chromedriver"
   ]
  },
  {
   "cell_type": "code",
   "execution_count": 3,
   "metadata": {},
   "outputs": [],
   "source": [
    "executable_path = {'executable_path': 'chromedriver.exe'}\n",
    "browser = Browser('chrome', **executable_path, headless=False)"
   ]
  },
  {
   "cell_type": "code",
   "execution_count": null,
   "metadata": {},
   "outputs": [],
   "source": [
    "#url to be scraped\n",
    "url = 'https://mars.nasa.gov/news/'\n",
    "#retrive page w/ request module\n",
    "response = requests.get(url)\n",
    "browser.visit(url)"
   ]
  },
  {
   "cell_type": "code",
   "execution_count": null,
   "metadata": {},
   "outputs": [],
   "source": [
    "#create bs object and parse w/ html parser\n",
    "soup = BeautifulSoup(response.text, 'html.parser')\n",
    "#print(soup.prettify())"
   ]
  },
  {
   "cell_type": "code",
   "execution_count": null,
   "metadata": {},
   "outputs": [],
   "source": [
    "#Scrape the NASA Mars News Site and collect the latest News Title and Paragraph Text\n",
    "news_title = soup.find('div', class_= 'content_title').text\n",
    "news_p = soup.find('div', class_= 'rollover_description').text\n",
    "print(news_title)\n",
    "print(news_p)"
   ]
  },
  {
   "cell_type": "code",
   "execution_count": null,
   "metadata": {},
   "outputs": [],
   "source": [
    "#JPL Mars Space Images - Featured Image\n",
    "#url to be scraped\n",
    "url = 'https://www.jpl.nasa.gov/spaceimages/?search=&category=Mars'\n",
    "#retrive page w/ request module\n",
    "response = requests.get(url)\n",
    "browser.visit(url)"
   ]
  },
  {
   "cell_type": "code",
   "execution_count": null,
   "metadata": {},
   "outputs": [],
   "source": [
    "#create bs object and parse w/ html parser\n",
    "soup = BeautifulSoup(response.text, 'html.parser')\n",
    "#print(soup.prettify())"
   ]
  },
  {
   "cell_type": "code",
   "execution_count": null,
   "metadata": {},
   "outputs": [],
   "source": [
    "#relative_image_path = soup.find('div', class_= 'carousel_item')[href]\n",
    "relative_image_path = soup.find_all('img')[2][\"src\"]\n",
    "featured_image_url = url + relative_image_path\n",
    "#featured_image_url = soup.find('div', class_= 'rollover_description').href\n",
    "print(featured_image_url)\n",
    "\n",
    "#relative_image_path = soup.find_all('img')[2][\"src\"]\n",
    "    #sloth_img = url + relative_image_path"
   ]
  },
  {
   "cell_type": "code",
   "execution_count": null,
   "metadata": {},
   "outputs": [],
   "source": [
    "#Mars Weather\n",
    "url = 'https://twitter.com/marswxreport?lang=en'\n",
    "#retrive page w/ request module\n",
    "\n",
    "response = requests.get(url)\n",
    "browser.visit(url)"
   ]
  },
  {
   "cell_type": "code",
   "execution_count": null,
   "metadata": {},
   "outputs": [],
   "source": [
    "soup = BeautifulSoup(response.text, 'html.parser')\n",
    "#print(soup.prettify())"
   ]
  },
  {
   "cell_type": "code",
   "execution_count": null,
   "metadata": {},
   "outputs": [],
   "source": [
    "#Scrape the latest Mars Weather Tweet \n",
    "# <span class=\"css-901oao css-16my406 r-1qd0xha r-ad9z0x r-bcqeeo r-qvutc0\">InSight sol 611 (2020-08-15) low -93.8ºC (-136.9ºF) high -15.9ºC (3.4ºF)\n",
    "#winds from the WNW at 7.3 m/s (16.3 mph) gusting to 17.9 m/s (40.2 mph)\n",
    "#pressure at 7.90 hPa</span>\n",
    "mars_weather = soup.find('div', class_= 'css-1dbjc4n')\n",
    "print(mars_weather)\n",
    "#css-1dbjc4n r-my5ep6 r-qklmqi r-1adg3ll\n",
    "#css-1dbjc4n\n",
    "#css-1dbjc4n r-1loqt21 r-18u37iz r-1ny4l3l r-o7ynqc r-6416eg\n",
    "#css-1dbjc4n r-eqz5dr r-16y2uox r-1wbh5a2\n",
    "#css-1dbjc4n r-16y2uox r-1wbh5a2 r-1ny4l3l r-1udh08x r-1yt7n81 r-ry3cjt\n",
    "#css-1dbjc4n r-18u37iz\n",
    "#css-1dbjc4n r-1awozwy r-18kxxzh r-zso239\n",
    "#css-1dbjc4n r-1iusvr4 r-16y2uox r-1777fci r-1mi0q7o\n",
    "#css-901oao r-hkyrab r-1qd0xha r-a023e6 r-16dba41 r-ad9z0x r-bcqeeo r-bnwqim r-qvutc0\n",
    "#css-901oao css-16my406 r-1qd0xha r-ad9z0x r-bcqeeo r-qvutc0\n",
    "\n",
    "#HELP"
   ]
  },
  {
   "cell_type": "code",
   "execution_count": null,
   "metadata": {},
   "outputs": [],
   "source": [
    "#Mars Facts\n",
    "#url to be scraped\n",
    "executable_path = {'executable_path': 'chromedriver.exe'}\n",
    "browser = Browser('chrome', **executable_path, headless=False)\n",
    "url = 'https://space-facts.com/mars/'\n",
    "#retrive page w/ request module\n",
    "response = requests.get(url)\n",
    "browser.visit(url)"
   ]
  },
  {
   "cell_type": "code",
   "execution_count": null,
   "metadata": {},
   "outputs": [],
   "source": [
    "#read tables from url\n",
    "tables = pd.read_html(url)\n",
    "tables"
   ]
  },
  {
   "cell_type": "code",
   "execution_count": null,
   "metadata": {},
   "outputs": [],
   "source": [
    "#scrape tables containing facts about the planet including diameter, mass, etc \n",
    "mars_facts = tables[0]\n",
    "mars_facts.columns = ['Description','Value']\n",
    "mars_facts"
   ]
  },
  {
   "cell_type": "code",
   "execution_count": null,
   "metadata": {},
   "outputs": [],
   "source": [
    "mars_facts.to_html(header = False, index = False)"
   ]
  },
  {
   "cell_type": "code",
   "execution_count": 4,
   "metadata": {},
   "outputs": [],
   "source": [
    "#Mars Hemispheres\n",
    "#url to be scraped\n",
    "executable_path = {'executable_path': 'chromedriver.exe'}\n",
    "browser = Browser('chrome', **executable_path, headless=False)\n",
    "url = 'https://astrogeology.usgs.gov/search/results?q=hemisphere+enhanced&k1=target&v1=Mars'\n",
    "#retrive page w/ request module\n",
    "response = requests.get(url)\n",
    "browser.visit(url)"
   ]
  },
  {
   "cell_type": "code",
   "execution_count": 7,
   "metadata": {},
   "outputs": [],
   "source": [
    "#create bs object and parse w/ html parser\n",
    "soup = BeautifulSoup(response.text, 'html.parser')\n",
    "#print(soup.prettify())"
   ]
  },
  {
   "cell_type": "code",
   "execution_count": 8,
   "metadata": {},
   "outputs": [],
   "source": [
    "#scrape  USGS Astrogeology \n",
    "hemisphere = soup.find_all('div', class_='item')"
   ]
  },
  {
   "cell_type": "code",
   "execution_count": 9,
   "metadata": {},
   "outputs": [
    {
     "data": {
      "text/plain": [
       "[{'title': 'Cerberus Hemisphere Enhanced',\n",
       "  'img_url': 'https://astrogeology.usgs.gov/cache/images/f5e372a36edfa389625da6d0cc25d905_cerberus_enhanced.tif_full.jpg'},\n",
       " {'title': 'Schiaparelli Hemisphere Enhanced',\n",
       "  'img_url': 'https://astrogeology.usgs.gov/cache/images/3778f7b43bbbc89d6e3cfabb3613ba93_schiaparelli_enhanced.tif_full.jpg'},\n",
       " {'title': 'Syrtis Major Hemisphere Enhanced',\n",
       "  'img_url': 'https://astrogeology.usgs.gov/cache/images/555e6403a6ddd7ba16ddb0e471cadcf7_syrtis_major_enhanced.tif_full.jpg'},\n",
       " {'title': 'Valles Marineris Hemisphere Enhanced',\n",
       "  'img_url': 'https://astrogeology.usgs.gov/cache/images/b3c7c6c9138f57b4756be9b9c43e3a48_valles_marineris_enhanced.tif_full.jpg'}]"
      ]
     },
     "execution_count": 9,
     "metadata": {},
     "output_type": "execute_result"
    }
   ],
   "source": [
    "USGS_url = 'https://astrogeology.usgs.gov'\n",
    "\n",
    "#make dictionary to store img_url and title\n",
    "hemisphere_image_url = []\n",
    "\n",
    "#loop through all images (reference activity 5 mongo scraping)\n",
    "for hemis in hemisphere:\n",
    "    #Store title\n",
    "    title = hemis.find(\"h3\").text\n",
    "    # Store link of the image\n",
    "    temp_img = hemis.find('a', class_= 'itemLink product-item')['href']\n",
    "    \n",
    "    #visit the link\n",
    "    browser.visit(USGS_url + temp_img)\n",
    "    \n",
    "    temp_img_html = browser.html\n",
    "    \n",
    "    soup_img_html = BeautifulSoup(temp_img_html, 'html.parser')\n",
    "    \n",
    "    full_img_url = USGS_url + soup_img_html.find('img', class_='wide-image')['src']\n",
    "    \n",
    "    hemisphere_image_url.append({\"title\":title, \"img_url\":full_img_url})\n",
    "   \n",
    "   \n",
    "\n",
    "hemisphere_image_url"
   ]
  },
  {
   "cell_type": "code",
   "execution_count": null,
   "metadata": {},
   "outputs": [],
   "source": []
  }
 ],
 "metadata": {
  "kernelspec": {
   "display_name": "Python 3",
   "language": "python",
   "name": "python3"
  },
  "language_info": {
   "codemirror_mode": {
    "name": "ipython",
    "version": 3
   },
   "file_extension": ".py",
   "mimetype": "text/x-python",
   "name": "python",
   "nbconvert_exporter": "python",
   "pygments_lexer": "ipython3",
   "version": "3.6.10"
  }
 },
 "nbformat": 4,
 "nbformat_minor": 4
}
